{
  "nbformat": 4,
  "nbformat_minor": 0,
  "metadata": {
    "colab": {
      "name": "Loan_prediction.ipynb",
      "provenance": [],
      "collapsed_sections": [],
      "mount_file_id": "1854otPn7BBXke4g_sZRDO6JvkDr2Q0Wi",
      "authorship_tag": "ABX9TyN1H6HwbCO94dwCS0xw7M+G",
      "include_colab_link": true
    },
    "kernelspec": {
      "display_name": "Python 3",
      "name": "python3"
    }
  },
  "cells": [
    {
      "cell_type": "markdown",
      "metadata": {
        "id": "view-in-github",
        "colab_type": "text"
      },
      "source": [
        "<a href=\"https://colab.research.google.com/github/wjunior15/loan_prediction/blob/main/Loan_prediction.ipynb\" target=\"_parent\"><img src=\"https://colab.research.google.com/assets/colab-badge.svg\" alt=\"Open In Colab\"/></a>"
      ]
    },
    {
      "cell_type": "markdown",
      "metadata": {
        "id": "A_2UEeZpxf3r"
      },
      "source": [
        "#Loan Prediction Hackathon\n",
        "##Problema de Machine Learning utilizando regressão logistica binária\n",
        "##Principais ferramentas: Python, Pandas, Numpy, Scikit Learn\n",
        "###Objetivo: Prever se um empréstimo será aprovado ou não com base nos dados do solicitante do empréstimo.\n",
        "###Site do hackathon: [DataHack](https://datahack.analyticsvidhya.com/contest/practice-problem-loan-prediction-iii/#LeaderBoard)\n",
        "###Meu Score: 0.784722222222222\n",
        "###Última modificação no código: 23/12/2020 "
      ]
    },
    {
      "cell_type": "code",
      "metadata": {
        "id": "1yA5dhxj3_6Q"
      },
      "source": [
        "import pandas as pd\n",
        "import numpy as np"
      ],
      "execution_count": 1,
      "outputs": []
    },
    {
      "cell_type": "code",
      "metadata": {
        "id": "1pXR2oC8xwmc",
        "colab": {
          "base_uri": "https://localhost:8080/",
          "height": 241
        },
        "outputId": "21b7b258-e359-45e3-c4b3-27fae369d8b2"
      },
      "source": [
        "test = pd.read_csv('https://raw.githubusercontent.com/shrikant-temburwar/Loan-Prediction-Dataset/master/test.csv')\n",
        "train = pd.read_csv('https://github.com/shrikant-temburwar/Loan-Prediction-Dataset/raw/master/train.csv')\n",
        "train.head()"
      ],
      "execution_count": 2,
      "outputs": [
        {
          "output_type": "execute_result",
          "data": {
            "text/html": [
              "<div>\n",
              "<style scoped>\n",
              "    .dataframe tbody tr th:only-of-type {\n",
              "        vertical-align: middle;\n",
              "    }\n",
              "\n",
              "    .dataframe tbody tr th {\n",
              "        vertical-align: top;\n",
              "    }\n",
              "\n",
              "    .dataframe thead th {\n",
              "        text-align: right;\n",
              "    }\n",
              "</style>\n",
              "<table border=\"1\" class=\"dataframe\">\n",
              "  <thead>\n",
              "    <tr style=\"text-align: right;\">\n",
              "      <th></th>\n",
              "      <th>Loan_ID</th>\n",
              "      <th>Gender</th>\n",
              "      <th>Married</th>\n",
              "      <th>Dependents</th>\n",
              "      <th>Education</th>\n",
              "      <th>Self_Employed</th>\n",
              "      <th>ApplicantIncome</th>\n",
              "      <th>CoapplicantIncome</th>\n",
              "      <th>LoanAmount</th>\n",
              "      <th>Loan_Amount_Term</th>\n",
              "      <th>Credit_History</th>\n",
              "      <th>Property_Area</th>\n",
              "      <th>Loan_Status</th>\n",
              "    </tr>\n",
              "  </thead>\n",
              "  <tbody>\n",
              "    <tr>\n",
              "      <th>0</th>\n",
              "      <td>LP001002</td>\n",
              "      <td>Male</td>\n",
              "      <td>No</td>\n",
              "      <td>0</td>\n",
              "      <td>Graduate</td>\n",
              "      <td>No</td>\n",
              "      <td>5849</td>\n",
              "      <td>0.0</td>\n",
              "      <td>NaN</td>\n",
              "      <td>360.0</td>\n",
              "      <td>1.0</td>\n",
              "      <td>Urban</td>\n",
              "      <td>Y</td>\n",
              "    </tr>\n",
              "    <tr>\n",
              "      <th>1</th>\n",
              "      <td>LP001003</td>\n",
              "      <td>Male</td>\n",
              "      <td>Yes</td>\n",
              "      <td>1</td>\n",
              "      <td>Graduate</td>\n",
              "      <td>No</td>\n",
              "      <td>4583</td>\n",
              "      <td>1508.0</td>\n",
              "      <td>128.0</td>\n",
              "      <td>360.0</td>\n",
              "      <td>1.0</td>\n",
              "      <td>Rural</td>\n",
              "      <td>N</td>\n",
              "    </tr>\n",
              "    <tr>\n",
              "      <th>2</th>\n",
              "      <td>LP001005</td>\n",
              "      <td>Male</td>\n",
              "      <td>Yes</td>\n",
              "      <td>0</td>\n",
              "      <td>Graduate</td>\n",
              "      <td>Yes</td>\n",
              "      <td>3000</td>\n",
              "      <td>0.0</td>\n",
              "      <td>66.0</td>\n",
              "      <td>360.0</td>\n",
              "      <td>1.0</td>\n",
              "      <td>Urban</td>\n",
              "      <td>Y</td>\n",
              "    </tr>\n",
              "    <tr>\n",
              "      <th>3</th>\n",
              "      <td>LP001006</td>\n",
              "      <td>Male</td>\n",
              "      <td>Yes</td>\n",
              "      <td>0</td>\n",
              "      <td>Not Graduate</td>\n",
              "      <td>No</td>\n",
              "      <td>2583</td>\n",
              "      <td>2358.0</td>\n",
              "      <td>120.0</td>\n",
              "      <td>360.0</td>\n",
              "      <td>1.0</td>\n",
              "      <td>Urban</td>\n",
              "      <td>Y</td>\n",
              "    </tr>\n",
              "    <tr>\n",
              "      <th>4</th>\n",
              "      <td>LP001008</td>\n",
              "      <td>Male</td>\n",
              "      <td>No</td>\n",
              "      <td>0</td>\n",
              "      <td>Graduate</td>\n",
              "      <td>No</td>\n",
              "      <td>6000</td>\n",
              "      <td>0.0</td>\n",
              "      <td>141.0</td>\n",
              "      <td>360.0</td>\n",
              "      <td>1.0</td>\n",
              "      <td>Urban</td>\n",
              "      <td>Y</td>\n",
              "    </tr>\n",
              "  </tbody>\n",
              "</table>\n",
              "</div>"
            ],
            "text/plain": [
              "    Loan_ID Gender Married  ... Credit_History Property_Area Loan_Status\n",
              "0  LP001002   Male      No  ...            1.0         Urban           Y\n",
              "1  LP001003   Male     Yes  ...            1.0         Rural           N\n",
              "2  LP001005   Male     Yes  ...            1.0         Urban           Y\n",
              "3  LP001006   Male     Yes  ...            1.0         Urban           Y\n",
              "4  LP001008   Male      No  ...            1.0         Urban           Y\n",
              "\n",
              "[5 rows x 13 columns]"
            ]
          },
          "metadata": {
            "tags": []
          },
          "execution_count": 2
        }
      ]
    },
    {
      "cell_type": "markdown",
      "metadata": {
        "id": "NixM9vpaaq5r"
      },
      "source": [
        "##Quantidade de valores nulos em cada coluna"
      ]
    },
    {
      "cell_type": "code",
      "metadata": {
        "id": "UEfZWmQorUmj"
      },
      "source": [
        "lista_nan = []\r\n",
        "\r\n",
        "for i in train.columns:\r\n",
        "  valor = len(train) - (train[i].value_counts().sum())\r\n",
        "  linha = {'coluna':i, 'valor':valor}\r\n",
        "  lista_nan.append(linha)"
      ],
      "execution_count": 3,
      "outputs": []
    },
    {
      "cell_type": "markdown",
      "metadata": {
        "id": "ouSfpyenaw8f"
      },
      "source": [
        "##Função genérica que transforma qualquer coluna não numérica em números\r\n",
        "OBS: os resultados não fazem sentido lógico, apenas a ordem da função value_counts()"
      ]
    },
    {
      "cell_type": "code",
      "metadata": {
        "id": "NAL06KpXxnpx"
      },
      "source": [
        "def transforma_numero(dados, coluna):\r\n",
        "  lista_numeros = []\r\n",
        "  for i in range(len(dados)):\r\n",
        "    for j in range(len(dados[coluna].value_counts())):\r\n",
        "      if dados[coluna].iloc[i] == dados[coluna].value_counts().index[j]:\r\n",
        "        lista_numeros.append(j)\r\n",
        "    if pd.isnull(dados[coluna].iloc[i]):\r\n",
        "      lista_numeros.append(np.nan)\r\n",
        "  return lista_numeros"
      ],
      "execution_count": 4,
      "outputs": []
    },
    {
      "cell_type": "markdown",
      "metadata": {
        "id": "emr1jE6HeH-y"
      },
      "source": [
        "##Função que automatiza processo de transformação"
      ]
    },
    {
      "cell_type": "code",
      "metadata": {
        "id": "UGsGxsqFZsDH"
      },
      "source": [
        "lista_colunas_transforma = ['Gender', 'Married', 'Education', 'Dependents', 'Self_Employed', 'Property_Area', 'Loan_Status']\r\n",
        "\r\n",
        "def automatiza_transforma(dados, colunas):\r\n",
        "  for i in colunas:\r\n",
        "    dados[i+'_number'] = transforma_numero(dados, i)\r\n",
        "  \r\n",
        "  return dados"
      ],
      "execution_count": 5,
      "outputs": []
    },
    {
      "cell_type": "code",
      "metadata": {
        "colab": {
          "base_uri": "https://localhost:8080/",
          "height": 413
        },
        "id": "WZeQBRQTbBHt",
        "outputId": "ce73b078-1d25-4834-ec90-498e27f456a7"
      },
      "source": [
        "train = automatiza_transforma(train, lista_colunas_transforma)\r\n",
        "train.head(10)"
      ],
      "execution_count": 6,
      "outputs": [
        {
          "output_type": "execute_result",
          "data": {
            "text/html": [
              "<div>\n",
              "<style scoped>\n",
              "    .dataframe tbody tr th:only-of-type {\n",
              "        vertical-align: middle;\n",
              "    }\n",
              "\n",
              "    .dataframe tbody tr th {\n",
              "        vertical-align: top;\n",
              "    }\n",
              "\n",
              "    .dataframe thead th {\n",
              "        text-align: right;\n",
              "    }\n",
              "</style>\n",
              "<table border=\"1\" class=\"dataframe\">\n",
              "  <thead>\n",
              "    <tr style=\"text-align: right;\">\n",
              "      <th></th>\n",
              "      <th>Loan_ID</th>\n",
              "      <th>Gender</th>\n",
              "      <th>Married</th>\n",
              "      <th>Dependents</th>\n",
              "      <th>Education</th>\n",
              "      <th>Self_Employed</th>\n",
              "      <th>ApplicantIncome</th>\n",
              "      <th>CoapplicantIncome</th>\n",
              "      <th>LoanAmount</th>\n",
              "      <th>Loan_Amount_Term</th>\n",
              "      <th>Credit_History</th>\n",
              "      <th>Property_Area</th>\n",
              "      <th>Loan_Status</th>\n",
              "      <th>Gender_number</th>\n",
              "      <th>Married_number</th>\n",
              "      <th>Education_number</th>\n",
              "      <th>Dependents_number</th>\n",
              "      <th>Self_Employed_number</th>\n",
              "      <th>Property_Area_number</th>\n",
              "      <th>Loan_Status_number</th>\n",
              "    </tr>\n",
              "  </thead>\n",
              "  <tbody>\n",
              "    <tr>\n",
              "      <th>0</th>\n",
              "      <td>LP001002</td>\n",
              "      <td>Male</td>\n",
              "      <td>No</td>\n",
              "      <td>0</td>\n",
              "      <td>Graduate</td>\n",
              "      <td>No</td>\n",
              "      <td>5849</td>\n",
              "      <td>0.0</td>\n",
              "      <td>NaN</td>\n",
              "      <td>360.0</td>\n",
              "      <td>1.0</td>\n",
              "      <td>Urban</td>\n",
              "      <td>Y</td>\n",
              "      <td>0.0</td>\n",
              "      <td>1.0</td>\n",
              "      <td>0</td>\n",
              "      <td>0.0</td>\n",
              "      <td>0.0</td>\n",
              "      <td>1</td>\n",
              "      <td>0</td>\n",
              "    </tr>\n",
              "    <tr>\n",
              "      <th>1</th>\n",
              "      <td>LP001003</td>\n",
              "      <td>Male</td>\n",
              "      <td>Yes</td>\n",
              "      <td>1</td>\n",
              "      <td>Graduate</td>\n",
              "      <td>No</td>\n",
              "      <td>4583</td>\n",
              "      <td>1508.0</td>\n",
              "      <td>128.0</td>\n",
              "      <td>360.0</td>\n",
              "      <td>1.0</td>\n",
              "      <td>Rural</td>\n",
              "      <td>N</td>\n",
              "      <td>0.0</td>\n",
              "      <td>0.0</td>\n",
              "      <td>0</td>\n",
              "      <td>1.0</td>\n",
              "      <td>0.0</td>\n",
              "      <td>2</td>\n",
              "      <td>1</td>\n",
              "    </tr>\n",
              "    <tr>\n",
              "      <th>2</th>\n",
              "      <td>LP001005</td>\n",
              "      <td>Male</td>\n",
              "      <td>Yes</td>\n",
              "      <td>0</td>\n",
              "      <td>Graduate</td>\n",
              "      <td>Yes</td>\n",
              "      <td>3000</td>\n",
              "      <td>0.0</td>\n",
              "      <td>66.0</td>\n",
              "      <td>360.0</td>\n",
              "      <td>1.0</td>\n",
              "      <td>Urban</td>\n",
              "      <td>Y</td>\n",
              "      <td>0.0</td>\n",
              "      <td>0.0</td>\n",
              "      <td>0</td>\n",
              "      <td>0.0</td>\n",
              "      <td>1.0</td>\n",
              "      <td>1</td>\n",
              "      <td>0</td>\n",
              "    </tr>\n",
              "    <tr>\n",
              "      <th>3</th>\n",
              "      <td>LP001006</td>\n",
              "      <td>Male</td>\n",
              "      <td>Yes</td>\n",
              "      <td>0</td>\n",
              "      <td>Not Graduate</td>\n",
              "      <td>No</td>\n",
              "      <td>2583</td>\n",
              "      <td>2358.0</td>\n",
              "      <td>120.0</td>\n",
              "      <td>360.0</td>\n",
              "      <td>1.0</td>\n",
              "      <td>Urban</td>\n",
              "      <td>Y</td>\n",
              "      <td>0.0</td>\n",
              "      <td>0.0</td>\n",
              "      <td>1</td>\n",
              "      <td>0.0</td>\n",
              "      <td>0.0</td>\n",
              "      <td>1</td>\n",
              "      <td>0</td>\n",
              "    </tr>\n",
              "    <tr>\n",
              "      <th>4</th>\n",
              "      <td>LP001008</td>\n",
              "      <td>Male</td>\n",
              "      <td>No</td>\n",
              "      <td>0</td>\n",
              "      <td>Graduate</td>\n",
              "      <td>No</td>\n",
              "      <td>6000</td>\n",
              "      <td>0.0</td>\n",
              "      <td>141.0</td>\n",
              "      <td>360.0</td>\n",
              "      <td>1.0</td>\n",
              "      <td>Urban</td>\n",
              "      <td>Y</td>\n",
              "      <td>0.0</td>\n",
              "      <td>1.0</td>\n",
              "      <td>0</td>\n",
              "      <td>0.0</td>\n",
              "      <td>0.0</td>\n",
              "      <td>1</td>\n",
              "      <td>0</td>\n",
              "    </tr>\n",
              "    <tr>\n",
              "      <th>5</th>\n",
              "      <td>LP001011</td>\n",
              "      <td>Male</td>\n",
              "      <td>Yes</td>\n",
              "      <td>2</td>\n",
              "      <td>Graduate</td>\n",
              "      <td>Yes</td>\n",
              "      <td>5417</td>\n",
              "      <td>4196.0</td>\n",
              "      <td>267.0</td>\n",
              "      <td>360.0</td>\n",
              "      <td>1.0</td>\n",
              "      <td>Urban</td>\n",
              "      <td>Y</td>\n",
              "      <td>0.0</td>\n",
              "      <td>0.0</td>\n",
              "      <td>0</td>\n",
              "      <td>2.0</td>\n",
              "      <td>1.0</td>\n",
              "      <td>1</td>\n",
              "      <td>0</td>\n",
              "    </tr>\n",
              "    <tr>\n",
              "      <th>6</th>\n",
              "      <td>LP001013</td>\n",
              "      <td>Male</td>\n",
              "      <td>Yes</td>\n",
              "      <td>0</td>\n",
              "      <td>Not Graduate</td>\n",
              "      <td>No</td>\n",
              "      <td>2333</td>\n",
              "      <td>1516.0</td>\n",
              "      <td>95.0</td>\n",
              "      <td>360.0</td>\n",
              "      <td>1.0</td>\n",
              "      <td>Urban</td>\n",
              "      <td>Y</td>\n",
              "      <td>0.0</td>\n",
              "      <td>0.0</td>\n",
              "      <td>1</td>\n",
              "      <td>0.0</td>\n",
              "      <td>0.0</td>\n",
              "      <td>1</td>\n",
              "      <td>0</td>\n",
              "    </tr>\n",
              "    <tr>\n",
              "      <th>7</th>\n",
              "      <td>LP001014</td>\n",
              "      <td>Male</td>\n",
              "      <td>Yes</td>\n",
              "      <td>3+</td>\n",
              "      <td>Graduate</td>\n",
              "      <td>No</td>\n",
              "      <td>3036</td>\n",
              "      <td>2504.0</td>\n",
              "      <td>158.0</td>\n",
              "      <td>360.0</td>\n",
              "      <td>0.0</td>\n",
              "      <td>Semiurban</td>\n",
              "      <td>N</td>\n",
              "      <td>0.0</td>\n",
              "      <td>0.0</td>\n",
              "      <td>0</td>\n",
              "      <td>3.0</td>\n",
              "      <td>0.0</td>\n",
              "      <td>0</td>\n",
              "      <td>1</td>\n",
              "    </tr>\n",
              "    <tr>\n",
              "      <th>8</th>\n",
              "      <td>LP001018</td>\n",
              "      <td>Male</td>\n",
              "      <td>Yes</td>\n",
              "      <td>2</td>\n",
              "      <td>Graduate</td>\n",
              "      <td>No</td>\n",
              "      <td>4006</td>\n",
              "      <td>1526.0</td>\n",
              "      <td>168.0</td>\n",
              "      <td>360.0</td>\n",
              "      <td>1.0</td>\n",
              "      <td>Urban</td>\n",
              "      <td>Y</td>\n",
              "      <td>0.0</td>\n",
              "      <td>0.0</td>\n",
              "      <td>0</td>\n",
              "      <td>2.0</td>\n",
              "      <td>0.0</td>\n",
              "      <td>1</td>\n",
              "      <td>0</td>\n",
              "    </tr>\n",
              "    <tr>\n",
              "      <th>9</th>\n",
              "      <td>LP001020</td>\n",
              "      <td>Male</td>\n",
              "      <td>Yes</td>\n",
              "      <td>1</td>\n",
              "      <td>Graduate</td>\n",
              "      <td>No</td>\n",
              "      <td>12841</td>\n",
              "      <td>10968.0</td>\n",
              "      <td>349.0</td>\n",
              "      <td>360.0</td>\n",
              "      <td>1.0</td>\n",
              "      <td>Semiurban</td>\n",
              "      <td>N</td>\n",
              "      <td>0.0</td>\n",
              "      <td>0.0</td>\n",
              "      <td>0</td>\n",
              "      <td>1.0</td>\n",
              "      <td>0.0</td>\n",
              "      <td>0</td>\n",
              "      <td>1</td>\n",
              "    </tr>\n",
              "  </tbody>\n",
              "</table>\n",
              "</div>"
            ],
            "text/plain": [
              "    Loan_ID Gender  ... Property_Area_number Loan_Status_number\n",
              "0  LP001002   Male  ...                    1                  0\n",
              "1  LP001003   Male  ...                    2                  1\n",
              "2  LP001005   Male  ...                    1                  0\n",
              "3  LP001006   Male  ...                    1                  0\n",
              "4  LP001008   Male  ...                    1                  0\n",
              "5  LP001011   Male  ...                    1                  0\n",
              "6  LP001013   Male  ...                    1                  0\n",
              "7  LP001014   Male  ...                    0                  1\n",
              "8  LP001018   Male  ...                    1                  0\n",
              "9  LP001020   Male  ...                    0                  1\n",
              "\n",
              "[10 rows x 20 columns]"
            ]
          },
          "metadata": {
            "tags": []
          },
          "execution_count": 6
        }
      ]
    },
    {
      "cell_type": "markdown",
      "metadata": {
        "id": "5n5qJPb-e1qJ"
      },
      "source": [
        "##Função que inverte os valores Y->0 e N->1 para Y->1 e N->0 para melhorar a visualização"
      ]
    },
    {
      "cell_type": "code",
      "metadata": {
        "id": "BvWI6wRkYwrR"
      },
      "source": [
        "def inverte_valores(dados, coluna):\r\n",
        "  for i in range(len(dados)):\r\n",
        "    if dados[coluna].iloc[i] == 1:\r\n",
        "      dados[coluna].iloc[i] = 0\r\n",
        "    elif dados[coluna].iloc[i] == 0:\r\n",
        "      dados[coluna].iloc[i] = 1\r\n",
        "  return dados"
      ],
      "execution_count": 7,
      "outputs": []
    },
    {
      "cell_type": "code",
      "metadata": {
        "id": "_DmE6QF4eYiY"
      },
      "source": [
        "def automatiza_inverte(dados, lista_inverte):\r\n",
        "\r\n",
        "  for i in lista_inverte:\r\n",
        "    dados = inverte_valores(dados, i)\r\n",
        "\r\n",
        "  return dados"
      ],
      "execution_count": 8,
      "outputs": []
    },
    {
      "cell_type": "code",
      "metadata": {
        "id": "fQkDuSBqZu7-",
        "colab": {
          "base_uri": "https://localhost:8080/"
        },
        "outputId": "00983e6a-9aec-4f59-8413-d320195635f3"
      },
      "source": [
        "lista_inverte_train = ['Married_number', 'Education_number', 'Loan_Status_number']\r\n",
        "train = automatiza_inverte(train, lista_inverte_train) "
      ],
      "execution_count": 9,
      "outputs": [
        {
          "output_type": "stream",
          "text": [
            "/usr/local/lib/python3.6/dist-packages/pandas/core/indexing.py:670: SettingWithCopyWarning: \n",
            "A value is trying to be set on a copy of a slice from a DataFrame\n",
            "\n",
            "See the caveats in the documentation: https://pandas.pydata.org/pandas-docs/stable/user_guide/indexing.html#returning-a-view-versus-a-copy\n",
            "  iloc._setitem_with_indexer(indexer, value)\n"
          ],
          "name": "stderr"
        }
      ]
    },
    {
      "cell_type": "markdown",
      "metadata": {
        "id": "vRJboPwI6n0r"
      },
      "source": [
        "##Selecionando apenas as colunas desejadas para a analise"
      ]
    },
    {
      "cell_type": "code",
      "metadata": {
        "id": "oKWngRosfceA"
      },
      "source": [
        "train = train[['ApplicantIncome', 'CoapplicantIncome', 'LoanAmount', 'Loan_Amount_Term', 'Credit_History', 'Gender_number', 'Married_number', 'Dependents_number', 'Education_number', 'Self_Employed_number', 'Property_Area_number', 'Loan_Status_number']]"
      ],
      "execution_count": 10,
      "outputs": []
    },
    {
      "cell_type": "markdown",
      "metadata": {
        "id": "QGPtzfFH6vBq"
      },
      "source": [
        "##Funções que analisam a média de uma variável levando em consideração o valor de uma ou duas outras variáveis"
      ]
    },
    {
      "cell_type": "code",
      "metadata": {
        "id": "vjCHpGgH5R-E"
      },
      "source": [
        "def analisa_media_uma(dados, coluna1, coluna2):\r\n",
        "  ##coluna 1 - search mean\r\n",
        "  ##coluna 2 - analysed values\r\n",
        "  values_2 = dados[coluna2].value_counts().index\r\n",
        "  lista_medias = []\r\n",
        "  for i in values_2:\r\n",
        "      valor = dados.query(\"{} == @i\".format(coluna2))[coluna1].mean()\r\n",
        "      if not(pd.isnull(valor)): valor = np.around(valor, 2)\r\n",
        "      tamanho = len(dados.query(\"{} == @i\".format(coluna2)))\r\n",
        "      lista_medias.append({'valor': valor, 'tamanho': tamanho, 'c2':i})\r\n",
        "  return lista_medias"
      ],
      "execution_count": 11,
      "outputs": []
    },
    {
      "cell_type": "code",
      "metadata": {
        "id": "TW4o6lnyifxg"
      },
      "source": [
        "def analisa_media_duas(dados, coluna1, coluna2, coluna3):\r\n",
        "  ##coluna 1 - search mean\r\n",
        "  ##coluna 2 e 3- analysed values\r\n",
        "  values_2 = dados[coluna2].value_counts().index\r\n",
        "  values_3 = dados[coluna3].value_counts().index\r\n",
        "  lista_medias = []\r\n",
        "  for i in values_2:\r\n",
        "    for j in values_3:\r\n",
        "      valor = dados.query(\"{} == @i and {} == @j\".format(coluna2, coluna3))[coluna1].mean()\r\n",
        "      if not(pd.isnull(valor)): valor = np.around(valor, 2)\r\n",
        "      tamanho = len(dados.query(\"{} == @i and {} == @j\".format(coluna2, coluna3)))\r\n",
        "      lista_medias.append({'valor': valor, 'tamanho': tamanho, 'c2':i, 'c3':j})\r\n",
        "  return lista_medias"
      ],
      "execution_count": 12,
      "outputs": []
    },
    {
      "cell_type": "code",
      "metadata": {
        "id": "S93Hoa9P5kUZ",
        "colab": {
          "base_uri": "https://localhost:8080/"
        },
        "outputId": "470c9654-411c-4650-a225-a9254a07c9b3"
      },
      "source": [
        "analisa_media_uma(train, 'LoanAmount', 'Credit_History')"
      ],
      "execution_count": 13,
      "outputs": [
        {
          "output_type": "execute_result",
          "data": {
            "text/plain": [
              "[{'c2': 1.0, 'tamanho': 475, 'valor': 144.79},\n",
              " {'c2': 0.0, 'tamanho': 89, 'valor': 146.72}]"
            ]
          },
          "metadata": {
            "tags": []
          },
          "execution_count": 13
        }
      ]
    },
    {
      "cell_type": "code",
      "metadata": {
        "id": "m74iko35sBca",
        "colab": {
          "base_uri": "https://localhost:8080/"
        },
        "outputId": "a9fa4750-5859-4502-e43a-e7ec5eeb315b"
      },
      "source": [
        "analisa_media_duas(train, 'LoanAmount', 'Loan_Amount_Term', 'Married_number')"
      ],
      "execution_count": 14,
      "outputs": [
        {
          "output_type": "execute_result",
          "data": {
            "text/plain": [
              "[{'c2': 360.0, 'c3': 1.0, 'tamanho': 328, 'valor': 157.74},\n",
              " {'c2': 360.0, 'c3': 0.0, 'tamanho': 183, 'valor': 128.32},\n",
              " {'c2': 180.0, 'c3': 1.0, 'tamanho': 36, 'valor': 147.79},\n",
              " {'c2': 180.0, 'c3': 0.0, 'tamanho': 8, 'valor': 146.38},\n",
              " {'c2': 480.0, 'c3': 1.0, 'tamanho': 5, 'valor': 123.4},\n",
              " {'c2': 480.0, 'c3': 0.0, 'tamanho': 9, 'valor': 166.89},\n",
              " {'c2': 300.0, 'c3': 1.0, 'tamanho': 10, 'valor': 216.2},\n",
              " {'c2': 300.0, 'c3': 0.0, 'tamanho': 3, 'valor': 81.67},\n",
              " {'c2': 84.0, 'c3': 1.0, 'tamanho': 4, 'valor': 132.25},\n",
              " {'c2': 84.0, 'c3': 0.0, 'tamanho': 0, 'valor': nan},\n",
              " {'c2': 240.0, 'c3': 1.0, 'tamanho': 2, 'valor': 127.5},\n",
              " {'c2': 240.0, 'c3': 0.0, 'tamanho': 1, 'valor': 100.0},\n",
              " {'c2': 120.0, 'c3': 1.0, 'tamanho': 2, 'valor': 21.0},\n",
              " {'c2': 120.0, 'c3': 0.0, 'tamanho': 1, 'valor': 25.0},\n",
              " {'c2': 36.0, 'c3': 1.0, 'tamanho': 0, 'valor': nan},\n",
              " {'c2': 36.0, 'c3': 0.0, 'tamanho': 2, 'valor': 117.5},\n",
              " {'c2': 60.0, 'c3': 1.0, 'tamanho': 1, 'valor': 125.0},\n",
              " {'c2': 60.0, 'c3': 0.0, 'tamanho': 1, 'valor': 155.0},\n",
              " {'c2': 12.0, 'c3': 1.0, 'tamanho': 1, 'valor': 111.0},\n",
              " {'c2': 12.0, 'c3': 0.0, 'tamanho': 0, 'valor': nan}]"
            ]
          },
          "metadata": {
            "tags": []
          },
          "execution_count": 14
        }
      ]
    },
    {
      "cell_type": "markdown",
      "metadata": {
        "id": "hzwCxmrsrlIZ"
      },
      "source": [
        "##Função para preencher dados NaN nas colunas do dataset"
      ]
    },
    {
      "cell_type": "code",
      "metadata": {
        "colab": {
          "base_uri": "https://localhost:8080/"
        },
        "id": "2l6bx0uXvHjE",
        "outputId": "a2f4b08f-c96d-4823-e399-0bc2427de6b6"
      },
      "source": [
        "lista_nan_somente = []\r\n",
        "\r\n",
        "for i in lista_nan:\r\n",
        "  if i['valor'] > 0:\r\n",
        "    lista_nan_somente.append(i)\r\n",
        "\r\n",
        "lista_nan_somente"
      ],
      "execution_count": 15,
      "outputs": [
        {
          "output_type": "execute_result",
          "data": {
            "text/plain": [
              "[{'coluna': 'Gender', 'valor': 13},\n",
              " {'coluna': 'Married', 'valor': 3},\n",
              " {'coluna': 'Dependents', 'valor': 15},\n",
              " {'coluna': 'Self_Employed', 'valor': 32},\n",
              " {'coluna': 'LoanAmount', 'valor': 22},\n",
              " {'coluna': 'Loan_Amount_Term', 'valor': 14},\n",
              " {'coluna': 'Credit_History', 'valor': 50}]"
            ]
          },
          "metadata": {
            "tags": []
          },
          "execution_count": 15
        }
      ]
    },
    {
      "cell_type": "markdown",
      "metadata": {
        "id": "J9428Q99HBaK"
      },
      "source": [
        "##Mudança dos valores NaN para Married_number\r\n",
        "Com valores diferentes para homens e mulheres\r\n"
      ]
    },
    {
      "cell_type": "code",
      "metadata": {
        "colab": {
          "base_uri": "https://localhost:8080/"
        },
        "id": "FnBJR3RUjOKy",
        "outputId": "b8fb8d9a-0025-42df-de76-18ff8d030128"
      },
      "source": [
        "for i in range(len(train)):\r\n",
        "  if pd.isnull(train['Married_number'].iloc[i]):\r\n",
        "    if train['Gender_number'].iloc[i] == 0:\r\n",
        "      train['Married_number'].iloc[i] = 1\r\n",
        "    else:\r\n",
        "      train['Married_number'].iloc[i] = 0"
      ],
      "execution_count": 16,
      "outputs": [
        {
          "output_type": "stream",
          "text": [
            "/usr/local/lib/python3.6/dist-packages/pandas/core/indexing.py:670: SettingWithCopyWarning: \n",
            "A value is trying to be set on a copy of a slice from a DataFrame\n",
            "\n",
            "See the caveats in the documentation: https://pandas.pydata.org/pandas-docs/stable/user_guide/indexing.html#returning-a-view-versus-a-copy\n",
            "  iloc._setitem_with_indexer(indexer, value)\n"
          ],
          "name": "stderr"
        }
      ]
    },
    {
      "cell_type": "code",
      "metadata": {
        "id": "LcqqqcqAxM-0",
        "colab": {
          "base_uri": "https://localhost:8080/"
        },
        "outputId": "18b6b9e0-3dfc-4c69-b725-987f4a5f8cb6"
      },
      "source": [
        "train['LoanAmount'].fillna(np.around(train['LoanAmount'].mean(), 0), inplace = True)\r\n",
        "train['LoanAmount'].describe()"
      ],
      "execution_count": 17,
      "outputs": [
        {
          "output_type": "execute_result",
          "data": {
            "text/plain": [
              "count    614.000000\n",
              "mean     146.397394\n",
              "std       84.037503\n",
              "min        9.000000\n",
              "25%      100.250000\n",
              "50%      129.000000\n",
              "75%      164.750000\n",
              "max      700.000000\n",
              "Name: LoanAmount, dtype: float64"
            ]
          },
          "metadata": {
            "tags": []
          },
          "execution_count": 17
        }
      ]
    },
    {
      "cell_type": "code",
      "metadata": {
        "id": "Qg4tmtGMBopA",
        "colab": {
          "base_uri": "https://localhost:8080/"
        },
        "outputId": "0829a123-5d34-4b6b-806c-b71709a0567a"
      },
      "source": [
        "train['Gender_number'].fillna(0, inplace = True)\r\n",
        "train['Gender_number'].describe()"
      ],
      "execution_count": 18,
      "outputs": [
        {
          "output_type": "execute_result",
          "data": {
            "text/plain": [
              "count    614.000000\n",
              "mean       0.182410\n",
              "std        0.386497\n",
              "min        0.000000\n",
              "25%        0.000000\n",
              "50%        0.000000\n",
              "75%        0.000000\n",
              "max        1.000000\n",
              "Name: Gender_number, dtype: float64"
            ]
          },
          "metadata": {
            "tags": []
          },
          "execution_count": 18
        }
      ]
    },
    {
      "cell_type": "code",
      "metadata": {
        "id": "BpJ8aDnyGI8A",
        "colab": {
          "base_uri": "https://localhost:8080/"
        },
        "outputId": "ecc62b8e-4b92-428a-e204-b9f4616fa309"
      },
      "source": [
        "train['Dependents_number'].fillna(1, inplace = True)\r\n",
        "train['Dependents_number'].describe()"
      ],
      "execution_count": 19,
      "outputs": [
        {
          "output_type": "execute_result",
          "data": {
            "text/plain": [
              "count    614.000000\n",
              "mean       0.768730\n",
              "std        1.003387\n",
              "min        0.000000\n",
              "25%        0.000000\n",
              "50%        0.000000\n",
              "75%        1.000000\n",
              "max        3.000000\n",
              "Name: Dependents_number, dtype: float64"
            ]
          },
          "metadata": {
            "tags": []
          },
          "execution_count": 19
        }
      ]
    },
    {
      "cell_type": "code",
      "metadata": {
        "colab": {
          "base_uri": "https://localhost:8080/"
        },
        "id": "kyBrupWnIZeO",
        "outputId": "75869ed6-1eeb-4d54-b7ff-4dc346f96145"
      },
      "source": [
        "train['Self_Employed_number'].fillna(0, inplace = True)\r\n",
        "train['Self_Employed_number'].describe()"
      ],
      "execution_count": 20,
      "outputs": [
        {
          "output_type": "execute_result",
          "data": {
            "text/plain": [
              "count    614.000000\n",
              "mean       0.133550\n",
              "std        0.340446\n",
              "min        0.000000\n",
              "25%        0.000000\n",
              "50%        0.000000\n",
              "75%        0.000000\n",
              "max        1.000000\n",
              "Name: Self_Employed_number, dtype: float64"
            ]
          },
          "metadata": {
            "tags": []
          },
          "execution_count": 20
        }
      ]
    },
    {
      "cell_type": "markdown",
      "metadata": {
        "id": "olYpJKOQVg0M"
      },
      "source": [
        "##Os valores vazio foram preenchidos de acordo com a porcentagem dos valores em relação aos dados validos\r\n"
      ]
    },
    {
      "cell_type": "code",
      "metadata": {
        "colab": {
          "base_uri": "https://localhost:8080/"
        },
        "id": "MdBnEc5jM9gZ",
        "outputId": "38561796-2993-4d34-a3d7-d8e64ab1c177"
      },
      "source": [
        "for i in train['Credit_History'].value_counts():\r\n",
        "  print(np.around((i / train['Credit_History'].count()) * 100, 0))"
      ],
      "execution_count": 21,
      "outputs": [
        {
          "output_type": "stream",
          "text": [
            "84.0\n",
            "16.0\n"
          ],
          "name": "stdout"
        }
      ]
    },
    {
      "cell_type": "code",
      "metadata": {
        "colab": {
          "base_uri": "https://localhost:8080/"
        },
        "id": "AjxrPeA9TbzM",
        "outputId": "d3d9dd0f-b0a7-40de-e2e0-11cc43964e01"
      },
      "source": [
        "cont = 0\r\n",
        "\r\n",
        "for i in range(len(train['Credit_History'])):\r\n",
        "  if pd.isnull(train['Credit_History'].iloc[i]):\r\n",
        "    if cont < 42 :\r\n",
        "      train['Credit_History'].iloc[i] = 1\r\n",
        "      cont = cont + 1\r\n",
        "    else:\r\n",
        "      train['Credit_History'].iloc[i] = 0"
      ],
      "execution_count": 22,
      "outputs": [
        {
          "output_type": "stream",
          "text": [
            "/usr/local/lib/python3.6/dist-packages/pandas/core/indexing.py:670: SettingWithCopyWarning: \n",
            "A value is trying to be set on a copy of a slice from a DataFrame\n",
            "\n",
            "See the caveats in the documentation: https://pandas.pydata.org/pandas-docs/stable/user_guide/indexing.html#returning-a-view-versus-a-copy\n",
            "  iloc._setitem_with_indexer(indexer, value)\n"
          ],
          "name": "stderr"
        }
      ]
    },
    {
      "cell_type": "code",
      "metadata": {
        "id": "Q7D0wmmLV4pd"
      },
      "source": [
        "train['Loan_Amount_Term'].fillna(np.around(train['Loan_Amount_Term'].mean(), 0), inplace = True)"
      ],
      "execution_count": 23,
      "outputs": []
    },
    {
      "cell_type": "markdown",
      "metadata": {
        "id": "JHrdQFl7yiC0"
      },
      "source": [
        "##Implementando algoritmo de ML para prever se os empréstimos serão ou não aprovados\r\n",
        "###O dataset train será dividido em dois sendo 2/3 e 1/3 para que possamos analisar a acurracia"
      ]
    },
    {
      "cell_type": "code",
      "metadata": {
        "id": "buRpvs87zBIS"
      },
      "source": [
        "X = train.iloc[:, 0:11]\r\n",
        "Y = train.iloc[:, 11]"
      ],
      "execution_count": 24,
      "outputs": []
    },
    {
      "cell_type": "code",
      "metadata": {
        "id": "VXGF-wLSyRIE"
      },
      "source": [
        "from sklearn.model_selection import train_test_split\r\n",
        "X_train, X_test, y_train, y_test = train_test_split(X, Y, test_size = 1/3, random_state = 0)"
      ],
      "execution_count": 25,
      "outputs": []
    },
    {
      "cell_type": "markdown",
      "metadata": {
        "id": "cf9uG0ss3eP3"
      },
      "source": [
        "###Treinando o algoritmo com os dados de treino"
      ]
    },
    {
      "cell_type": "code",
      "metadata": {
        "colab": {
          "base_uri": "https://localhost:8080/"
        },
        "id": "cwiF6lDHObyG",
        "outputId": "056c7171-8014-420d-8097-cbca779c5b79"
      },
      "source": [
        "from sklearn.linear_model import LogisticRegression\r\n",
        "from sklearn import metrics\r\n",
        "\r\n",
        "logreg = LogisticRegression()\r\n",
        "logreg.fit(X_train, y_train)"
      ],
      "execution_count": 26,
      "outputs": [
        {
          "output_type": "stream",
          "text": [
            "/usr/local/lib/python3.6/dist-packages/sklearn/linear_model/_logistic.py:940: ConvergenceWarning: lbfgs failed to converge (status=1):\n",
            "STOP: TOTAL NO. of ITERATIONS REACHED LIMIT.\n",
            "\n",
            "Increase the number of iterations (max_iter) or scale the data as shown in:\n",
            "    https://scikit-learn.org/stable/modules/preprocessing.html\n",
            "Please also refer to the documentation for alternative solver options:\n",
            "    https://scikit-learn.org/stable/modules/linear_model.html#logistic-regression\n",
            "  extra_warning_msg=_LOGISTIC_SOLVER_CONVERGENCE_MSG)\n"
          ],
          "name": "stderr"
        },
        {
          "output_type": "execute_result",
          "data": {
            "text/plain": [
              "LogisticRegression(C=1.0, class_weight=None, dual=False, fit_intercept=True,\n",
              "                   intercept_scaling=1, l1_ratio=None, max_iter=100,\n",
              "                   multi_class='auto', n_jobs=None, penalty='l2',\n",
              "                   random_state=None, solver='lbfgs', tol=0.0001, verbose=0,\n",
              "                   warm_start=False)"
            ]
          },
          "metadata": {
            "tags": []
          },
          "execution_count": 26
        }
      ]
    },
    {
      "cell_type": "markdown",
      "metadata": {
        "id": "ztUUCQko3iH0"
      },
      "source": [
        "###Fazendo a primeira predição com dados supervisionados"
      ]
    },
    {
      "cell_type": "code",
      "metadata": {
        "colab": {
          "base_uri": "https://localhost:8080/"
        },
        "id": "lCNLzzYqyP6B",
        "outputId": "ea719356-9cdf-470f-be4d-03815094c5cc"
      },
      "source": [
        "y_pred_1 = logreg.predict(X_test)\r\n",
        "y_pred_1"
      ],
      "execution_count": 27,
      "outputs": [
        {
          "output_type": "execute_result",
          "data": {
            "text/plain": [
              "array([1, 1, 1, 1, 1, 0, 1, 1, 0, 1, 1, 1, 1, 1, 1, 1, 1, 1, 1, 0, 0, 1,\n",
              "       1, 1, 1, 1, 1, 1, 0, 0, 1, 1, 1, 1, 1, 0, 1, 1, 1, 1, 1, 0, 1, 1,\n",
              "       1, 1, 1, 1, 1, 1, 1, 1, 1, 1, 1, 1, 1, 1, 1, 1, 0, 1, 1, 0, 1, 1,\n",
              "       1, 1, 1, 1, 1, 1, 1, 1, 1, 1, 0, 1, 1, 0, 1, 1, 1, 1, 1, 1, 1, 1,\n",
              "       1, 1, 1, 1, 1, 0, 1, 0, 1, 1, 1, 1, 1, 1, 1, 1, 1, 1, 1, 1, 1, 1,\n",
              "       1, 1, 1, 1, 0, 0, 0, 1, 1, 1, 1, 0, 1, 1, 0, 0, 1, 1, 1, 1, 1, 1,\n",
              "       1, 1, 1, 1, 1, 1, 1, 1, 1, 1, 0, 1, 1, 1, 1, 1, 0, 0, 1, 1, 1, 0,\n",
              "       1, 1, 1, 1, 1, 1, 1, 1, 1, 1, 1, 1, 1, 1, 0, 1, 0, 1, 1, 1, 1, 1,\n",
              "       1, 1, 1, 1, 1, 1, 1, 1, 1, 1, 1, 1, 0, 1, 1, 1, 1, 1, 0, 1, 1, 1,\n",
              "       0, 1, 1, 1, 1, 0, 1])"
            ]
          },
          "metadata": {
            "tags": []
          },
          "execution_count": 27
        }
      ]
    },
    {
      "cell_type": "code",
      "metadata": {
        "colab": {
          "base_uri": "https://localhost:8080/"
        },
        "id": "aow-My_x0vnf",
        "outputId": "933e433e-c794-48b7-e0ff-44f335ab1ab3"
      },
      "source": [
        "print(\"The accuracy is {}\".format(metrics.accuracy_score(y_pred_1, y_test)))"
      ],
      "execution_count": 28,
      "outputs": [
        {
          "output_type": "stream",
          "text": [
            "The accuracy is 0.824390243902439\n"
          ],
          "name": "stdout"
        }
      ]
    },
    {
      "cell_type": "markdown",
      "metadata": {
        "id": "E44tVerZP7yB"
      },
      "source": [
        "##Tratar variavéis categóricas dos dados de teste"
      ]
    },
    {
      "cell_type": "code",
      "metadata": {
        "id": "XF_CZYWlfGo2"
      },
      "source": [
        "lista_nan = []\r\n",
        "\r\n",
        "for i in test.columns:\r\n",
        "  valor = len(test) - (test[i].value_counts().sum())\r\n",
        "  linha = {'coluna':i, 'valor':valor}\r\n",
        "  lista_nan.append(linha)"
      ],
      "execution_count": 29,
      "outputs": []
    },
    {
      "cell_type": "code",
      "metadata": {
        "id": "9-1N2y5cTwoE"
      },
      "source": [
        "lista_colunas_transforma_test = ['Gender', 'Married', 'Education', 'Dependents', 'Self_Employed', 'Property_Area']\r\n",
        "lista_inverte_test = ['Married_number', 'Education_number']"
      ],
      "execution_count": 30,
      "outputs": []
    },
    {
      "cell_type": "code",
      "metadata": {
        "colab": {
          "base_uri": "https://localhost:8080/"
        },
        "id": "mQ_1bB0-QTYo",
        "outputId": "49ae709f-154c-4168-ecea-6ff046d39e01"
      },
      "source": [
        "test = automatiza_transforma(test, lista_colunas_transforma_test)\r\n",
        "test = automatiza_inverte(test, lista_inverte_test)\r\n",
        "test = test[['ApplicantIncome', 'CoapplicantIncome', 'LoanAmount', 'Loan_Amount_Term', 'Credit_History', 'Gender_number', 'Married_number', 'Dependents_number', 'Education_number', 'Self_Employed_number', 'Property_Area_number']]"
      ],
      "execution_count": 31,
      "outputs": [
        {
          "output_type": "stream",
          "text": [
            "/usr/local/lib/python3.6/dist-packages/pandas/core/indexing.py:670: SettingWithCopyWarning: \n",
            "A value is trying to be set on a copy of a slice from a DataFrame\n",
            "\n",
            "See the caveats in the documentation: https://pandas.pydata.org/pandas-docs/stable/user_guide/indexing.html#returning-a-view-versus-a-copy\n",
            "  iloc._setitem_with_indexer(indexer, value)\n"
          ],
          "name": "stderr"
        }
      ]
    },
    {
      "cell_type": "markdown",
      "metadata": {
        "id": "lHXy7rmtUllU"
      },
      "source": [
        "##Tratar dados nulos conjunto de test"
      ]
    },
    {
      "cell_type": "code",
      "metadata": {
        "id": "TbpXm9-gPD0a"
      },
      "source": [
        "def completa_credit_history(dados, n):\r\n",
        "  cont = 0\r\n",
        "\r\n",
        "  for i in range(len(dados['Credit_History'])):\r\n",
        "    if pd.isnull(dados['Credit_History'].iloc[i]):\r\n",
        "      if cont < n :\r\n",
        "        dados['Credit_History'].iloc[i] = 1\r\n",
        "        cont = cont + 1\r\n",
        "      else:\r\n",
        "        dados['Credit_History'].iloc[i] = 0\r\n",
        "  \r\n",
        "  return dados"
      ],
      "execution_count": 32,
      "outputs": []
    },
    {
      "cell_type": "code",
      "metadata": {
        "colab": {
          "base_uri": "https://localhost:8080/"
        },
        "id": "NbNGEM4tUlVt",
        "outputId": "76b2d956-401e-43e8-c49c-f6737ee87fc8"
      },
      "source": [
        "test['Gender_number'].fillna(0, inplace = True )\r\n",
        "test['Dependents_number'].fillna(1, inplace = True )\r\n",
        "test['Self_Employed_number'].fillna(0, inplace = True )\r\n",
        "test['LoanAmount'].fillna(np.around(test['LoanAmount'].mean(), 0), inplace = True )\r\n",
        "test['Loan_Amount_Term'].fillna(np.around(test['Loan_Amount_Term'].mean(), 0), inplace = True )\r\n",
        "test = completa_credit_history(test, 20)"
      ],
      "execution_count": 33,
      "outputs": [
        {
          "output_type": "stream",
          "text": [
            "/usr/local/lib/python3.6/dist-packages/pandas/core/indexing.py:670: SettingWithCopyWarning: \n",
            "A value is trying to be set on a copy of a slice from a DataFrame\n",
            "\n",
            "See the caveats in the documentation: https://pandas.pydata.org/pandas-docs/stable/user_guide/indexing.html#returning-a-view-versus-a-copy\n",
            "  iloc._setitem_with_indexer(indexer, value)\n"
          ],
          "name": "stderr"
        }
      ]
    },
    {
      "cell_type": "markdown",
      "metadata": {
        "id": "l9hQLi593UCX"
      },
      "source": [
        "#Analise final dos dados de teste "
      ]
    },
    {
      "cell_type": "code",
      "metadata": {
        "id": "g24IF06-V_XD"
      },
      "source": [
        "y_test_final = logreg.predict(test)"
      ],
      "execution_count": 34,
      "outputs": []
    },
    {
      "cell_type": "code",
      "metadata": {
        "colab": {
          "base_uri": "https://localhost:8080/"
        },
        "id": "0FWt7O8eWWKT",
        "outputId": "9daaa656-2dae-4964-ea48-e843aebd1c1e"
      },
      "source": [
        "y_test_final"
      ],
      "execution_count": 35,
      "outputs": [
        {
          "output_type": "execute_result",
          "data": {
            "text/plain": [
              "array([1, 1, 1, 1, 1, 1, 1, 0, 1, 1, 1, 1, 1, 0, 1, 1, 1, 1, 1, 1, 1, 1,\n",
              "       1, 1, 1, 0, 1, 1, 1, 1, 1, 1, 1, 1, 1, 0, 1, 1, 1, 1, 1, 1, 1, 1,\n",
              "       1, 1, 1, 1, 1, 1, 1, 1, 1, 1, 1, 0, 1, 1, 0, 1, 1, 1, 1, 0, 1, 1,\n",
              "       0, 0, 1, 0, 1, 1, 1, 1, 1, 1, 1, 1, 1, 1, 0, 1, 0, 1, 0, 1, 1, 1,\n",
              "       1, 1, 1, 1, 1, 1, 0, 1, 1, 1, 1, 1, 1, 0, 1, 1, 1, 1, 0, 1, 1, 1,\n",
              "       1, 1, 1, 1, 1, 1, 1, 0, 0, 0, 1, 1, 1, 0, 0, 1, 0, 1, 1, 1, 1, 1,\n",
              "       1, 1, 1, 1, 1, 1, 1, 1, 0, 1, 0, 1, 1, 1, 1, 0, 1, 1, 1, 1, 1, 0,\n",
              "       1, 1, 1, 1, 1, 1, 1, 0, 1, 1, 1, 0, 0, 1, 0, 1, 1, 1, 1, 0, 0, 1,\n",
              "       1, 1, 1, 1, 1, 1, 1, 1, 1, 1, 1, 1, 1, 1, 1, 1, 0, 0, 1, 1, 0, 1,\n",
              "       0, 1, 1, 1, 1, 1, 1, 1, 1, 1, 1, 0, 1, 0, 1, 1, 1, 1, 1, 1, 1, 1,\n",
              "       1, 1, 1, 1, 0, 1, 1, 1, 1, 0, 1, 1, 1, 1, 1, 0, 0, 0, 1, 1, 1, 0,\n",
              "       1, 0, 1, 0, 1, 1, 1, 1, 0, 1, 1, 1, 1, 0, 1, 1, 1, 1, 1, 1, 1, 1,\n",
              "       1, 1, 0, 0, 0, 1, 1, 1, 1, 0, 0, 1, 1, 1, 0, 1, 1, 1, 0, 1, 1, 1,\n",
              "       0, 1, 1, 1, 1, 1, 1, 0, 1, 1, 1, 1, 1, 1, 1, 0, 1, 1, 1, 0, 1, 1,\n",
              "       1, 1, 1, 0, 1, 1, 1, 1, 1, 0, 1, 1, 1, 1, 1, 1, 1, 0, 1, 1, 1, 0,\n",
              "       1, 1, 1, 1, 1, 1, 0, 1, 1, 0, 1, 1, 1, 1, 1, 1, 0, 1, 1, 1, 1, 0,\n",
              "       1, 1, 0, 1, 1, 1, 0, 1, 0, 1, 1, 1, 0, 1, 1])"
            ]
          },
          "metadata": {
            "tags": []
          },
          "execution_count": 35
        }
      ]
    },
    {
      "cell_type": "markdown",
      "metadata": {
        "id": "c3RytCtM2G2f"
      },
      "source": [
        "##Criando arquivo conforme moldes para envio no site da Analytics Vidhya"
      ]
    },
    {
      "cell_type": "code",
      "metadata": {
        "id": "-jEXMm_2JBKL"
      },
      "source": [
        "test_to_send = pd.read_csv('https://raw.githubusercontent.com/shrikant-temburwar/Loan-Prediction-Dataset/master/test.csv')"
      ],
      "execution_count": 36,
      "outputs": []
    },
    {
      "cell_type": "code",
      "metadata": {
        "id": "oplG7RT5Kb6B"
      },
      "source": [
        "test_to_send['Loan_Status'] = y_test_final"
      ],
      "execution_count": 37,
      "outputs": []
    },
    {
      "cell_type": "code",
      "metadata": {
        "id": "BWAPX46vt0xb"
      },
      "source": [
        "def retransforma_status(dados):\r\n",
        "  for i in range(len(dados)):\r\n",
        "    if dados['Loan_Status'].iloc[i] == 1:\r\n",
        "      dados['Loan_Status'].iloc[i] = 'Y'\r\n",
        "    else:\r\n",
        "      dados['Loan_Status'].iloc[i] = 'N'\r\n",
        "\r\n",
        "  return dados"
      ],
      "execution_count": 38,
      "outputs": []
    },
    {
      "cell_type": "code",
      "metadata": {
        "colab": {
          "base_uri": "https://localhost:8080/",
          "height": 326
        },
        "id": "4av7x_ZluUXU",
        "outputId": "bfa52736-67a0-4c9b-a1c6-030d917c6055"
      },
      "source": [
        "test_to_send = retransforma_status(test_to_send)\r\n",
        "test_to_send.head()"
      ],
      "execution_count": 39,
      "outputs": [
        {
          "output_type": "stream",
          "text": [
            "/usr/local/lib/python3.6/dist-packages/pandas/core/indexing.py:670: SettingWithCopyWarning: \n",
            "A value is trying to be set on a copy of a slice from a DataFrame\n",
            "\n",
            "See the caveats in the documentation: https://pandas.pydata.org/pandas-docs/stable/user_guide/indexing.html#returning-a-view-versus-a-copy\n",
            "  iloc._setitem_with_indexer(indexer, value)\n"
          ],
          "name": "stderr"
        },
        {
          "output_type": "execute_result",
          "data": {
            "text/html": [
              "<div>\n",
              "<style scoped>\n",
              "    .dataframe tbody tr th:only-of-type {\n",
              "        vertical-align: middle;\n",
              "    }\n",
              "\n",
              "    .dataframe tbody tr th {\n",
              "        vertical-align: top;\n",
              "    }\n",
              "\n",
              "    .dataframe thead th {\n",
              "        text-align: right;\n",
              "    }\n",
              "</style>\n",
              "<table border=\"1\" class=\"dataframe\">\n",
              "  <thead>\n",
              "    <tr style=\"text-align: right;\">\n",
              "      <th></th>\n",
              "      <th>Loan_ID</th>\n",
              "      <th>Gender</th>\n",
              "      <th>Married</th>\n",
              "      <th>Dependents</th>\n",
              "      <th>Education</th>\n",
              "      <th>Self_Employed</th>\n",
              "      <th>ApplicantIncome</th>\n",
              "      <th>CoapplicantIncome</th>\n",
              "      <th>LoanAmount</th>\n",
              "      <th>Loan_Amount_Term</th>\n",
              "      <th>Credit_History</th>\n",
              "      <th>Property_Area</th>\n",
              "      <th>Loan_Status</th>\n",
              "    </tr>\n",
              "  </thead>\n",
              "  <tbody>\n",
              "    <tr>\n",
              "      <th>0</th>\n",
              "      <td>LP001015</td>\n",
              "      <td>Male</td>\n",
              "      <td>Yes</td>\n",
              "      <td>0</td>\n",
              "      <td>Graduate</td>\n",
              "      <td>No</td>\n",
              "      <td>5720</td>\n",
              "      <td>0</td>\n",
              "      <td>110.0</td>\n",
              "      <td>360.0</td>\n",
              "      <td>1.0</td>\n",
              "      <td>Urban</td>\n",
              "      <td>Y</td>\n",
              "    </tr>\n",
              "    <tr>\n",
              "      <th>1</th>\n",
              "      <td>LP001022</td>\n",
              "      <td>Male</td>\n",
              "      <td>Yes</td>\n",
              "      <td>1</td>\n",
              "      <td>Graduate</td>\n",
              "      <td>No</td>\n",
              "      <td>3076</td>\n",
              "      <td>1500</td>\n",
              "      <td>126.0</td>\n",
              "      <td>360.0</td>\n",
              "      <td>1.0</td>\n",
              "      <td>Urban</td>\n",
              "      <td>Y</td>\n",
              "    </tr>\n",
              "    <tr>\n",
              "      <th>2</th>\n",
              "      <td>LP001031</td>\n",
              "      <td>Male</td>\n",
              "      <td>Yes</td>\n",
              "      <td>2</td>\n",
              "      <td>Graduate</td>\n",
              "      <td>No</td>\n",
              "      <td>5000</td>\n",
              "      <td>1800</td>\n",
              "      <td>208.0</td>\n",
              "      <td>360.0</td>\n",
              "      <td>1.0</td>\n",
              "      <td>Urban</td>\n",
              "      <td>Y</td>\n",
              "    </tr>\n",
              "    <tr>\n",
              "      <th>3</th>\n",
              "      <td>LP001035</td>\n",
              "      <td>Male</td>\n",
              "      <td>Yes</td>\n",
              "      <td>2</td>\n",
              "      <td>Graduate</td>\n",
              "      <td>No</td>\n",
              "      <td>2340</td>\n",
              "      <td>2546</td>\n",
              "      <td>100.0</td>\n",
              "      <td>360.0</td>\n",
              "      <td>NaN</td>\n",
              "      <td>Urban</td>\n",
              "      <td>Y</td>\n",
              "    </tr>\n",
              "    <tr>\n",
              "      <th>4</th>\n",
              "      <td>LP001051</td>\n",
              "      <td>Male</td>\n",
              "      <td>No</td>\n",
              "      <td>0</td>\n",
              "      <td>Not Graduate</td>\n",
              "      <td>No</td>\n",
              "      <td>3276</td>\n",
              "      <td>0</td>\n",
              "      <td>78.0</td>\n",
              "      <td>360.0</td>\n",
              "      <td>1.0</td>\n",
              "      <td>Urban</td>\n",
              "      <td>Y</td>\n",
              "    </tr>\n",
              "  </tbody>\n",
              "</table>\n",
              "</div>"
            ],
            "text/plain": [
              "    Loan_ID Gender Married  ... Credit_History Property_Area Loan_Status\n",
              "0  LP001015   Male     Yes  ...            1.0         Urban           Y\n",
              "1  LP001022   Male     Yes  ...            1.0         Urban           Y\n",
              "2  LP001031   Male     Yes  ...            1.0         Urban           Y\n",
              "3  LP001035   Male     Yes  ...            NaN         Urban           Y\n",
              "4  LP001051   Male      No  ...            1.0         Urban           Y\n",
              "\n",
              "[5 rows x 13 columns]"
            ]
          },
          "metadata": {
            "tags": []
          },
          "execution_count": 39
        }
      ]
    },
    {
      "cell_type": "markdown",
      "metadata": {
        "id": "ViAx0y3v3rik"
      },
      "source": [
        "##Exportando arquivo CSV, sem coluna de index"
      ]
    },
    {
      "cell_type": "code",
      "metadata": {
        "id": "m5yDl3rm140F"
      },
      "source": [
        "test_to_send[['Loan_ID', 'Loan_Status']].to_csv('dados_prediction.csv', index=False)"
      ],
      "execution_count": 41,
      "outputs": []
    }
  ]
}